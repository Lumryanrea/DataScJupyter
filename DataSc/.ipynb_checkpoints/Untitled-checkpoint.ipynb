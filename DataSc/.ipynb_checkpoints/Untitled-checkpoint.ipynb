{
 "cells": [
  {
   "cell_type": "code",
   "execution_count": 2,
   "id": "da1418f8-ad90-4ffb-9e29-0dab18830946",
   "metadata": {},
   "outputs": [],
   "source": [
    "import pandas as pd"
   ]
  },
  {
   "cell_type": "code",
   "execution_count": 4,
   "id": "f669b5a5-552d-41af-8e19-021b36f133e8",
   "metadata": {},
   "outputs": [
    {
     "data": {
      "text/html": [
       "<div>\n",
       "<style scoped>\n",
       "    .dataframe tbody tr th:only-of-type {\n",
       "        vertical-align: middle;\n",
       "    }\n",
       "\n",
       "    .dataframe tbody tr th {\n",
       "        vertical-align: top;\n",
       "    }\n",
       "\n",
       "    .dataframe thead th {\n",
       "        text-align: right;\n",
       "    }\n",
       "</style>\n",
       "<table border=\"1\" class=\"dataframe\">\n",
       "  <thead>\n",
       "    <tr style=\"text-align: right;\">\n",
       "      <th></th>\n",
       "      <th>converted</th>\n",
       "      <th>group</th>\n",
       "    </tr>\n",
       "  </thead>\n",
       "  <tbody>\n",
       "    <tr>\n",
       "      <th>0</th>\n",
       "      <td>0</td>\n",
       "      <td>B</td>\n",
       "    </tr>\n",
       "    <tr>\n",
       "      <th>1</th>\n",
       "      <td>0</td>\n",
       "      <td>B</td>\n",
       "    </tr>\n",
       "    <tr>\n",
       "      <th>2</th>\n",
       "      <td>0</td>\n",
       "      <td>A</td>\n",
       "    </tr>\n",
       "    <tr>\n",
       "      <th>3</th>\n",
       "      <td>0</td>\n",
       "      <td>B</td>\n",
       "    </tr>\n",
       "    <tr>\n",
       "      <th>4</th>\n",
       "      <td>0</td>\n",
       "      <td>A</td>\n",
       "    </tr>\n",
       "    <tr>\n",
       "      <th>...</th>\n",
       "      <td>...</td>\n",
       "      <td>...</td>\n",
       "    </tr>\n",
       "    <tr>\n",
       "      <th>1995</th>\n",
       "      <td>0</td>\n",
       "      <td>B</td>\n",
       "    </tr>\n",
       "    <tr>\n",
       "      <th>1996</th>\n",
       "      <td>0</td>\n",
       "      <td>B</td>\n",
       "    </tr>\n",
       "    <tr>\n",
       "      <th>1997</th>\n",
       "      <td>0</td>\n",
       "      <td>A</td>\n",
       "    </tr>\n",
       "    <tr>\n",
       "      <th>1998</th>\n",
       "      <td>0</td>\n",
       "      <td>A</td>\n",
       "    </tr>\n",
       "    <tr>\n",
       "      <th>1999</th>\n",
       "      <td>1</td>\n",
       "      <td>A</td>\n",
       "    </tr>\n",
       "  </tbody>\n",
       "</table>\n",
       "<p>2000 rows × 2 columns</p>\n",
       "</div>"
      ],
      "text/plain": [
       "      converted group\n",
       "0             0     B\n",
       "1             0     B\n",
       "2             0     A\n",
       "3             0     B\n",
       "4             0     A\n",
       "...         ...   ...\n",
       "1995          0     B\n",
       "1996          0     B\n",
       "1997          0     A\n",
       "1998          0     A\n",
       "1999          1     A\n",
       "\n",
       "[2000 rows x 2 columns]"
      ]
     },
     "execution_count": 4,
     "metadata": {},
     "output_type": "execute_result"
    }
   ],
   "source": [
    "conversion_rate = pd.read_csv('conversion_rates.csv')\n",
    "conversion_rate"
   ]
  },
  {
   "cell_type": "code",
   "execution_count": 38,
   "id": "0861a4f0-edc4-440d-b69f-ea62dfcd42b2",
   "metadata": {},
   "outputs": [
    {
     "data": {
      "text/html": [
       "<div>\n",
       "<style scoped>\n",
       "    .dataframe tbody tr th:only-of-type {\n",
       "        vertical-align: middle;\n",
       "    }\n",
       "\n",
       "    .dataframe tbody tr th {\n",
       "        vertical-align: top;\n",
       "    }\n",
       "\n",
       "    .dataframe thead th {\n",
       "        text-align: right;\n",
       "    }\n",
       "</style>\n",
       "<table border=\"1\" class=\"dataframe\">\n",
       "  <thead>\n",
       "    <tr style=\"text-align: right;\">\n",
       "      <th></th>\n",
       "      <th>converted</th>\n",
       "      <th>group</th>\n",
       "    </tr>\n",
       "  </thead>\n",
       "  <tbody>\n",
       "    <tr>\n",
       "      <th>2</th>\n",
       "      <td>0</td>\n",
       "      <td>A</td>\n",
       "    </tr>\n",
       "    <tr>\n",
       "      <th>4</th>\n",
       "      <td>0</td>\n",
       "      <td>A</td>\n",
       "    </tr>\n",
       "    <tr>\n",
       "      <th>6</th>\n",
       "      <td>0</td>\n",
       "      <td>A</td>\n",
       "    </tr>\n",
       "    <tr>\n",
       "      <th>9</th>\n",
       "      <td>0</td>\n",
       "      <td>A</td>\n",
       "    </tr>\n",
       "    <tr>\n",
       "      <th>10</th>\n",
       "      <td>0</td>\n",
       "      <td>A</td>\n",
       "    </tr>\n",
       "    <tr>\n",
       "      <th>...</th>\n",
       "      <td>...</td>\n",
       "      <td>...</td>\n",
       "    </tr>\n",
       "    <tr>\n",
       "      <th>1992</th>\n",
       "      <td>0</td>\n",
       "      <td>A</td>\n",
       "    </tr>\n",
       "    <tr>\n",
       "      <th>1993</th>\n",
       "      <td>0</td>\n",
       "      <td>A</td>\n",
       "    </tr>\n",
       "    <tr>\n",
       "      <th>1997</th>\n",
       "      <td>0</td>\n",
       "      <td>A</td>\n",
       "    </tr>\n",
       "    <tr>\n",
       "      <th>1998</th>\n",
       "      <td>0</td>\n",
       "      <td>A</td>\n",
       "    </tr>\n",
       "    <tr>\n",
       "      <th>1999</th>\n",
       "      <td>1</td>\n",
       "      <td>A</td>\n",
       "    </tr>\n",
       "  </tbody>\n",
       "</table>\n",
       "<p>1030 rows × 2 columns</p>\n",
       "</div>"
      ],
      "text/plain": [
       "      converted group\n",
       "2             0     A\n",
       "4             0     A\n",
       "6             0     A\n",
       "9             0     A\n",
       "10            0     A\n",
       "...         ...   ...\n",
       "1992          0     A\n",
       "1993          0     A\n",
       "1997          0     A\n",
       "1998          0     A\n",
       "1999          1     A\n",
       "\n",
       "[1030 rows x 2 columns]"
      ]
     },
     "execution_count": 38,
     "metadata": {},
     "output_type": "execute_result"
    }
   ],
   "source": [
    "group_A = conversion_rate.loc[conversion_rate['group'] == 'A']\n",
    "group_A"
   ]
  },
  {
   "cell_type": "code",
   "execution_count": 53,
   "id": "b2fc8668-1ab5-497f-81d4-6e1095b65b02",
   "metadata": {},
   "outputs": [
    {
     "data": {
      "text/html": [
       "<div>\n",
       "<style scoped>\n",
       "    .dataframe tbody tr th:only-of-type {\n",
       "        vertical-align: middle;\n",
       "    }\n",
       "\n",
       "    .dataframe tbody tr th {\n",
       "        vertical-align: top;\n",
       "    }\n",
       "\n",
       "    .dataframe thead th {\n",
       "        text-align: right;\n",
       "    }\n",
       "</style>\n",
       "<table border=\"1\" class=\"dataframe\">\n",
       "  <thead>\n",
       "    <tr style=\"text-align: right;\">\n",
       "      <th></th>\n",
       "      <th>converted</th>\n",
       "      <th>group</th>\n",
       "    </tr>\n",
       "  </thead>\n",
       "  <tbody>\n",
       "    <tr>\n",
       "      <th>0</th>\n",
       "      <td>0</td>\n",
       "      <td>B</td>\n",
       "    </tr>\n",
       "    <tr>\n",
       "      <th>1</th>\n",
       "      <td>0</td>\n",
       "      <td>B</td>\n",
       "    </tr>\n",
       "    <tr>\n",
       "      <th>3</th>\n",
       "      <td>0</td>\n",
       "      <td>B</td>\n",
       "    </tr>\n",
       "    <tr>\n",
       "      <th>5</th>\n",
       "      <td>0</td>\n",
       "      <td>B</td>\n",
       "    </tr>\n",
       "    <tr>\n",
       "      <th>7</th>\n",
       "      <td>0</td>\n",
       "      <td>B</td>\n",
       "    </tr>\n",
       "    <tr>\n",
       "      <th>...</th>\n",
       "      <td>...</td>\n",
       "      <td>...</td>\n",
       "    </tr>\n",
       "    <tr>\n",
       "      <th>1985</th>\n",
       "      <td>0</td>\n",
       "      <td>B</td>\n",
       "    </tr>\n",
       "    <tr>\n",
       "      <th>1989</th>\n",
       "      <td>0</td>\n",
       "      <td>B</td>\n",
       "    </tr>\n",
       "    <tr>\n",
       "      <th>1994</th>\n",
       "      <td>0</td>\n",
       "      <td>B</td>\n",
       "    </tr>\n",
       "    <tr>\n",
       "      <th>1995</th>\n",
       "      <td>0</td>\n",
       "      <td>B</td>\n",
       "    </tr>\n",
       "    <tr>\n",
       "      <th>1996</th>\n",
       "      <td>0</td>\n",
       "      <td>B</td>\n",
       "    </tr>\n",
       "  </tbody>\n",
       "</table>\n",
       "<p>970 rows × 2 columns</p>\n",
       "</div>"
      ],
      "text/plain": [
       "      converted group\n",
       "0             0     B\n",
       "1             0     B\n",
       "3             0     B\n",
       "5             0     B\n",
       "7             0     B\n",
       "...         ...   ...\n",
       "1985          0     B\n",
       "1989          0     B\n",
       "1994          0     B\n",
       "1995          0     B\n",
       "1996          0     B\n",
       "\n",
       "[970 rows x 2 columns]"
      ]
     },
     "execution_count": 53,
     "metadata": {},
     "output_type": "execute_result"
    }
   ],
   "source": [
    "group_B = conversion_rate.loc[conversion_rate['group'] == 'B']\n",
    "group_B"
   ]
  },
  {
   "cell_type": "markdown",
   "id": "ccfdc990-967a-439a-a16b-893b3bd6c04e",
   "metadata": {},
   "source": [
    "## Number of views"
   ]
  },
  {
   "cell_type": "code",
   "execution_count": 61,
   "id": "5c047087-800d-4cb5-9287-2f77f8ce73f7",
   "metadata": {},
   "outputs": [
    {
     "name": "stdout",
     "output_type": "stream",
     "text": [
      "The number of views for group A is: 1030\n"
     ]
    }
   ],
   "source": [
    "ac = len(group_A)\n",
    "print('The number of views for group A is:',ac )"
   ]
  },
  {
   "cell_type": "code",
   "execution_count": 62,
   "id": "c8ce7dec-b759-436e-ba79-e76c2e4e7c89",
   "metadata": {},
   "outputs": [
    {
     "name": "stdout",
     "output_type": "stream",
     "text": [
      "The number of views for group B is: 970\n"
     ]
    }
   ],
   "source": [
    "bc = len(group_B)\n",
    "print('The number of views for group B is:',bc )"
   ]
  },
  {
   "cell_type": "markdown",
   "id": "ec2cb1a2-85e5-406a-ab1b-90db12f410d1",
   "metadata": {},
   "source": [
    "## Number of ads converted"
   ]
  },
  {
   "cell_type": "code",
   "execution_count": 59,
   "id": "2cf0170f-5f56-46a0-b4d5-5cc1ca2e8f7b",
   "metadata": {},
   "outputs": [
    {
     "name": "stdout",
     "output_type": "stream",
     "text": [
      "The number of ads converted for group A is: 90\n"
     ]
    }
   ],
   "source": [
    "ads_convA = group_A.loc[group_A['converted'] == 1]\n",
    "la = len(ads_convA)\n",
    "print('The number of ads converted for group A is:',la )"
   ]
  },
  {
   "cell_type": "code",
   "execution_count": 60,
   "id": "c95f1150-dfa2-4471-9b1a-f656ae9d4db9",
   "metadata": {},
   "outputs": [
    {
     "name": "stdout",
     "output_type": "stream",
     "text": [
      "The number of ads converted for group B is: 21\n"
     ]
    }
   ],
   "source": [
    "ads_convB = group_B.loc[group_B['converted'] == 1]\n",
    "lb = len(ads_convB)\n",
    "print('The number of ads converted for group B is:',lb )"
   ]
  },
  {
   "cell_type": "markdown",
   "id": "ada58caf-5e12-4fc4-8396-afb7115ea8c1",
   "metadata": {},
   "source": [
    "## Convertion ratio"
   ]
  },
  {
   "cell_type": "code",
   "execution_count": 63,
   "id": "8e392cd5-564c-4c9d-89f3-c0154ff36524",
   "metadata": {},
   "outputs": [
    {
     "name": "stdout",
     "output_type": "stream",
     "text": [
      "The conversion ratio for group A is: 8.737864077669903\n"
     ]
    }
   ],
   "source": [
    "groupA_ConvRatio = (la/ac)*100\n",
    "print('The conversion ratio for group A is:',groupA_ConvRatio)"
   ]
  },
  {
   "cell_type": "code",
   "execution_count": 64,
   "id": "808fae8d-a9f3-4ea4-9fba-b7c7b09d8849",
   "metadata": {},
   "outputs": [
    {
     "name": "stdout",
     "output_type": "stream",
     "text": [
      "The conversion ratio for group B is: 2.1649484536082473\n"
     ]
    }
   ],
   "source": [
    "groupB_ConvRatio = (lb/bc)*100\n",
    "print('The conversion ratio for group B is:',groupB_ConvRatio)"
   ]
  }
 ],
 "metadata": {
  "kernelspec": {
   "display_name": "Python 3 (ipykernel)",
   "language": "python",
   "name": "python3"
  },
  "language_info": {
   "codemirror_mode": {
    "name": "ipython",
    "version": 3
   },
   "file_extension": ".py",
   "mimetype": "text/x-python",
   "name": "python",
   "nbconvert_exporter": "python",
   "pygments_lexer": "ipython3",
   "version": "3.11.5"
  }
 },
 "nbformat": 4,
 "nbformat_minor": 5
}
