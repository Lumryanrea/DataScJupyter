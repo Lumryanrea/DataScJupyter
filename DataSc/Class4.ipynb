{
 "cells": [
  {
   "cell_type": "markdown",
   "id": "94732c22-54a3-42e0-b2fc-fd4e51a0d097",
   "metadata": {},
   "source": [
    "# Numpy"
   ]
  },
  {
   "cell_type": "code",
   "execution_count": 1,
   "id": "edbff033-8552-4b27-b7a5-c5582fa97097",
   "metadata": {},
   "outputs": [],
   "source": [
    "import numpy as np"
   ]
  },
  {
   "cell_type": "markdown",
   "id": "92f0e222-4bc4-4807-bf7e-b2ce0f5932f0",
   "metadata": {},
   "source": [
    "## Creating a 1-dimensional array"
   ]
  },
  {
   "cell_type": "code",
   "execution_count": 2,
   "id": "e3286184-7261-4928-94d1-ab67665c3e56",
   "metadata": {},
   "outputs": [],
   "source": [
    "one_dimension = [1,2,3]"
   ]
  },
  {
   "cell_type": "markdown",
   "id": "1339a2ef-9a9d-4475-be8e-54bcb56f81f7",
   "metadata": {},
   "source": [
    "## Creating a 2-dimensional array"
   ]
  },
  {
   "cell_type": "code",
   "execution_count": 4,
   "id": "071d19bb-808b-4d33-9de0-18f7b1d8e8a1",
   "metadata": {},
   "outputs": [],
   "source": [
    "two_dimension = ([1,2,3], [4,5,6])"
   ]
  },
  {
   "cell_type": "markdown",
   "id": "07f6e830-d8b4-4d73-b96e-146713905fa0",
   "metadata": {},
   "source": [
    "## Datatypes & Attributes"
   ]
  },
  {
   "cell_type": "code",
   "execution_count": 5,
   "id": "245d3850-b88d-4e3f-876f-0fa97ee305b8",
   "metadata": {},
   "outputs": [
    {
     "data": {
      "text/plain": [
       "array([1, 2, 3])"
      ]
     },
     "execution_count": 5,
     "metadata": {},
     "output_type": "execute_result"
    }
   ],
   "source": [
    "#Numpy's main datatype is ndarray\n",
    "a1 = np.array([1,2,3])\n",
    "a1"
   ]
  },
  {
   "cell_type": "code",
   "execution_count": 6,
   "id": "8470f32a-e583-4d18-9bc0-2f89cbcedf5b",
   "metadata": {},
   "outputs": [
    {
     "data": {
      "text/plain": [
       "numpy.ndarray"
      ]
     },
     "execution_count": 6,
     "metadata": {},
     "output_type": "execute_result"
    }
   ],
   "source": [
    "type(a1)"
   ]
  },
  {
   "cell_type": "code",
   "execution_count": 7,
   "id": "d5af9a93-ec3e-433a-b0a8-4ca986edb8f9",
   "metadata": {},
   "outputs": [],
   "source": [
    "a2 = np.array([[1,2.0,3.3],\n",
    "              [4,5,6.5]])\n",
    "\n",
    "a3 = np.array([[[1,2,3],\n",
    "              [4,5,6],\n",
    "              [7,8,9]],\n",
    "              [[10,11,12],\n",
    "              [13,14,15],\n",
    "              [16,17,18]\n",
    "              ]])"
   ]
  },
  {
   "cell_type": "code",
   "execution_count": 8,
   "id": "fbf6d875-ca7a-4511-a902-7392e52b683b",
   "metadata": {},
   "outputs": [
    {
     "name": "stdout",
     "output_type": "stream",
     "text": [
      "[[1.  2.  3.3]\n",
      " [4.  5.  6.5]]\n"
     ]
    }
   ],
   "source": [
    "print(a2)"
   ]
  },
  {
   "cell_type": "code",
   "execution_count": 9,
   "id": "700b56d7-fb26-4641-a272-afd6a2a50147",
   "metadata": {},
   "outputs": [
    {
     "data": {
      "text/plain": [
       "array([[[ 1,  2,  3],\n",
       "        [ 4,  5,  6],\n",
       "        [ 7,  8,  9]],\n",
       "\n",
       "       [[10, 11, 12],\n",
       "        [13, 14, 15],\n",
       "        [16, 17, 18]]])"
      ]
     },
     "execution_count": 9,
     "metadata": {},
     "output_type": "execute_result"
    }
   ],
   "source": [
    "a3"
   ]
  },
  {
   "cell_type": "code",
   "execution_count": 10,
   "id": "281ffb1e-3b39-4ecf-9120-56786cda5b7c",
   "metadata": {},
   "outputs": [
    {
     "data": {
      "text/plain": [
       "(2, 3, 3)"
      ]
     },
     "execution_count": 10,
     "metadata": {},
     "output_type": "execute_result"
    }
   ],
   "source": [
    "a3.shape"
   ]
  },
  {
   "cell_type": "markdown",
   "id": "67c80d44-a78e-48e9-981b-cc6fc735e954",
   "metadata": {},
   "source": [
    "### to checkout what type of dimension an array has\n"
   ]
  },
  {
   "cell_type": "code",
   "execution_count": 11,
   "id": "dc610ac0-d8f6-45a8-b6ca-3cb184197c0b",
   "metadata": {},
   "outputs": [
    {
     "data": {
      "text/plain": [
       "(1, 2, 3)"
      ]
     },
     "execution_count": 11,
     "metadata": {},
     "output_type": "execute_result"
    }
   ],
   "source": [
    "a1.ndim, a2.ndim , a3.ndim"
   ]
  },
  {
   "cell_type": "markdown",
   "id": "d46ab134-8d2b-476f-acca-0803216cd9a7",
   "metadata": {},
   "source": [
    "### to checkout what datatype the arrays are"
   ]
  },
  {
   "cell_type": "code",
   "execution_count": 12,
   "id": "48921014-3a0a-48c5-aae8-54152fd19b39",
   "metadata": {},
   "outputs": [
    {
     "data": {
      "text/plain": [
       "(dtype('int32'), dtype('float64'), dtype('int32'))"
      ]
     },
     "execution_count": 12,
     "metadata": {},
     "output_type": "execute_result"
    }
   ],
   "source": [
    "a1.dtype, a2.dtype , a3.dtype"
   ]
  },
  {
   "cell_type": "markdown",
   "id": "89664125-4e4c-445c-9ee3-d6abbd08ba92",
   "metadata": {},
   "source": [
    "### to checkout the size of the arrays"
   ]
  },
  {
   "cell_type": "code",
   "execution_count": 13,
   "id": "fcd1938b-8b59-415f-b412-9fee0d3d0c13",
   "metadata": {},
   "outputs": [
    {
     "data": {
      "text/plain": [
       "(3, 6, 18)"
      ]
     },
     "execution_count": 13,
     "metadata": {},
     "output_type": "execute_result"
    }
   ],
   "source": [
    "a1.size ,  a2.size , a3.size"
   ]
  },
  {
   "cell_type": "markdown",
   "id": "8ea01d41-6e60-4c43-9d8d-92823ffb303c",
   "metadata": {},
   "source": [
    "## Creating a Dataframe from a Numpy array"
   ]
  },
  {
   "cell_type": "code",
   "execution_count": 14,
   "id": "175c3137-06cb-445c-9e83-1d2cf61395f4",
   "metadata": {},
   "outputs": [],
   "source": [
    "import pandas as pd\n"
   ]
  },
  {
   "cell_type": "code",
   "execution_count": 15,
   "id": "a681ccfa-ca8e-481c-a8dc-5ad14b71c75d",
   "metadata": {},
   "outputs": [
    {
     "data": {
      "text/html": [
       "<div>\n",
       "<style scoped>\n",
       "    .dataframe tbody tr th:only-of-type {\n",
       "        vertical-align: middle;\n",
       "    }\n",
       "\n",
       "    .dataframe tbody tr th {\n",
       "        vertical-align: top;\n",
       "    }\n",
       "\n",
       "    .dataframe thead th {\n",
       "        text-align: right;\n",
       "    }\n",
       "</style>\n",
       "<table border=\"1\" class=\"dataframe\">\n",
       "  <thead>\n",
       "    <tr style=\"text-align: right;\">\n",
       "      <th></th>\n",
       "      <th>0</th>\n",
       "      <th>1</th>\n",
       "      <th>2</th>\n",
       "    </tr>\n",
       "  </thead>\n",
       "  <tbody>\n",
       "    <tr>\n",
       "      <th>0</th>\n",
       "      <td>1.0</td>\n",
       "      <td>2.0</td>\n",
       "      <td>3.3</td>\n",
       "    </tr>\n",
       "    <tr>\n",
       "      <th>1</th>\n",
       "      <td>4.0</td>\n",
       "      <td>5.0</td>\n",
       "      <td>6.5</td>\n",
       "    </tr>\n",
       "  </tbody>\n",
       "</table>\n",
       "</div>"
      ],
      "text/plain": [
       "     0    1    2\n",
       "0  1.0  2.0  3.3\n",
       "1  4.0  5.0  6.5"
      ]
     },
     "execution_count": 15,
     "metadata": {},
     "output_type": "execute_result"
    }
   ],
   "source": [
    "df = pd.DataFrame(a2)\n",
    "df"
   ]
  },
  {
   "cell_type": "code",
   "execution_count": 16,
   "id": "0cdf7779-11af-4c77-8793-ebb965015179",
   "metadata": {},
   "outputs": [
    {
     "data": {
      "text/html": [
       "<div>\n",
       "<style scoped>\n",
       "    .dataframe tbody tr th:only-of-type {\n",
       "        vertical-align: middle;\n",
       "    }\n",
       "\n",
       "    .dataframe tbody tr th {\n",
       "        vertical-align: top;\n",
       "    }\n",
       "\n",
       "    .dataframe thead th {\n",
       "        text-align: right;\n",
       "    }\n",
       "</style>\n",
       "<table border=\"1\" class=\"dataframe\">\n",
       "  <thead>\n",
       "    <tr style=\"text-align: right;\">\n",
       "      <th></th>\n",
       "      <th>0</th>\n",
       "      <th>1</th>\n",
       "      <th>2</th>\n",
       "      <th>3</th>\n",
       "      <th>4</th>\n",
       "      <th>5</th>\n",
       "      <th>6</th>\n",
       "      <th>7</th>\n",
       "      <th>8</th>\n",
       "    </tr>\n",
       "  </thead>\n",
       "  <tbody>\n",
       "    <tr>\n",
       "      <th>0</th>\n",
       "      <td>1</td>\n",
       "      <td>2</td>\n",
       "      <td>3</td>\n",
       "      <td>4</td>\n",
       "      <td>5</td>\n",
       "      <td>6</td>\n",
       "      <td>7</td>\n",
       "      <td>8</td>\n",
       "      <td>9</td>\n",
       "    </tr>\n",
       "    <tr>\n",
       "      <th>1</th>\n",
       "      <td>10</td>\n",
       "      <td>11</td>\n",
       "      <td>12</td>\n",
       "      <td>13</td>\n",
       "      <td>14</td>\n",
       "      <td>15</td>\n",
       "      <td>16</td>\n",
       "      <td>17</td>\n",
       "      <td>18</td>\n",
       "    </tr>\n",
       "  </tbody>\n",
       "</table>\n",
       "</div>"
      ],
      "text/plain": [
       "    0   1   2   3   4   5   6   7   8\n",
       "0   1   2   3   4   5   6   7   8   9\n",
       "1  10  11  12  13  14  15  16  17  18"
      ]
     },
     "execution_count": 16,
     "metadata": {},
     "output_type": "execute_result"
    }
   ],
   "source": [
    "df3 = pd.DataFrame(a3.reshape(2,9))\n",
    "df3"
   ]
  },
  {
   "cell_type": "code",
   "execution_count": 17,
   "id": "6a3dd9c0-3d77-42ad-8fe1-454b2f5e67f7",
   "metadata": {},
   "outputs": [],
   "source": [
    "ones = np.ones((2,3))"
   ]
  },
  {
   "cell_type": "code",
   "execution_count": 18,
   "id": "8a6ac9ce-2cf6-4d25-8e1d-7ab8ed389a6b",
   "metadata": {},
   "outputs": [
    {
     "data": {
      "text/plain": [
       "array([[1., 1., 1.],\n",
       "       [1., 1., 1.]])"
      ]
     },
     "execution_count": 18,
     "metadata": {},
     "output_type": "execute_result"
    }
   ],
   "source": [
    "ones"
   ]
  },
  {
   "cell_type": "code",
   "execution_count": 19,
   "id": "5d6c4ba3-00e9-46f1-b5b2-54dd4cdd47a7",
   "metadata": {},
   "outputs": [
    {
     "data": {
      "text/plain": [
       "dtype('float64')"
      ]
     },
     "execution_count": 19,
     "metadata": {},
     "output_type": "execute_result"
    }
   ],
   "source": [
    "ones.dtype"
   ]
  },
  {
   "cell_type": "code",
   "execution_count": 20,
   "id": "40853b78-6292-4f66-900b-1cfd187962fa",
   "metadata": {},
   "outputs": [
    {
     "data": {
      "text/plain": [
       "numpy.ndarray"
      ]
     },
     "execution_count": 20,
     "metadata": {},
     "output_type": "execute_result"
    }
   ],
   "source": [
    "type(ones)"
   ]
  },
  {
   "cell_type": "code",
   "execution_count": 21,
   "id": "8e31c305-bc51-42e6-8d93-84bc6f90eeea",
   "metadata": {},
   "outputs": [],
   "source": [
    "zero = np.zeros((2,3))"
   ]
  },
  {
   "cell_type": "code",
   "execution_count": 22,
   "id": "f5d94006-5f6a-4e29-a9d4-0ac247efd1dc",
   "metadata": {},
   "outputs": [
    {
     "data": {
      "text/plain": [
       "array([[0., 0., 0.],\n",
       "       [0., 0., 0.]])"
      ]
     },
     "execution_count": 22,
     "metadata": {},
     "output_type": "execute_result"
    }
   ],
   "source": [
    "zero"
   ]
  },
  {
   "cell_type": "code",
   "execution_count": 23,
   "id": "fa843d88-004c-4167-a337-4838da3fc916",
   "metadata": {},
   "outputs": [
    {
     "data": {
      "text/plain": [
       "array([ 0,  2,  4,  6,  8, 10])"
      ]
     },
     "execution_count": 23,
     "metadata": {},
     "output_type": "execute_result"
    }
   ],
   "source": [
    "range_array = np.arange(0,12,2)\n",
    "range_array"
   ]
  },
  {
   "cell_type": "code",
   "execution_count": 24,
   "id": "cee7a35e-1ada-4bbc-81cf-c1a9bf22b4ea",
   "metadata": {},
   "outputs": [
    {
     "data": {
      "text/plain": [
       "array([[7, 6, 8, 7, 2],\n",
       "       [3, 6, 1, 7, 4],\n",
       "       [7, 0, 7, 5, 2]])"
      ]
     },
     "execution_count": 24,
     "metadata": {},
     "output_type": "execute_result"
    }
   ],
   "source": [
    "random_array = np.random.randint(0,10,size = (3,5))\n",
    "random_array"
   ]
  },
  {
   "cell_type": "code",
   "execution_count": 25,
   "id": "5765c8bd-940f-4d2b-85d4-a7f23f3f82d6",
   "metadata": {},
   "outputs": [
    {
     "data": {
      "text/plain": [
       "array([[0.35191214, 0.76509575, 0.12750174, 0.99151524, 0.95155771],\n",
       "       [0.57319483, 0.81790356, 0.22790856, 0.61535306, 0.73933442],\n",
       "       [0.83884431, 0.26637248, 0.77449786, 0.06695728, 0.98097735]])"
      ]
     },
     "execution_count": 25,
     "metadata": {},
     "output_type": "execute_result"
    }
   ],
   "source": [
    "random_array = np.random.random((3,5))\n",
    "random_array"
   ]
  },
  {
   "cell_type": "code",
   "execution_count": 30,
   "id": "ef393d53-4829-4dd9-9814-12a452927021",
   "metadata": {},
   "outputs": [
    {
     "data": {
      "text/plain": [
       "array([[6, 5, 0],\n",
       "       [6, 3, 1],\n",
       "       [1, 8, 8],\n",
       "       [4, 0, 9],\n",
       "       [7, 0, 1]])"
      ]
     },
     "execution_count": 30,
     "metadata": {},
     "output_type": "execute_result"
    }
   ],
   "source": [
    "#psuedo-random numbers\n",
    "# np.random.see()\n",
    "random_array_4 = np.random.randint(10,size=(5,3))\n",
    "random_array_4"
   ]
  },
  {
   "cell_type": "markdown",
   "id": "c5cd0a67-0972-4f23-b862-276efa1ed905",
   "metadata": {},
   "source": [
    "## Viewing arrays and matrices"
   ]
  },
  {
   "cell_type": "code",
   "execution_count": 31,
   "id": "9c1a46f4-63c8-4a3e-b73e-b993b3462d4a",
   "metadata": {},
   "outputs": [
    {
     "data": {
      "text/plain": [
       "array([0, 1, 3, 4, 5, 6, 7, 8, 9])"
      ]
     },
     "execution_count": 31,
     "metadata": {},
     "output_type": "execute_result"
    }
   ],
   "source": [
    "np.unique(random_array_4)"
   ]
  },
  {
   "cell_type": "code",
   "execution_count": 36,
   "id": "c1927a30-7262-4569-a026-c44288862d7f",
   "metadata": {},
   "outputs": [
    {
     "data": {
      "text/plain": [
       "array([[10, 11, 12],\n",
       "       [13, 14, 15],\n",
       "       [16, 17, 18]])"
      ]
     },
     "execution_count": 36,
     "metadata": {},
     "output_type": "execute_result"
    }
   ],
   "source": [
    "a3[1]"
   ]
  },
  {
   "cell_type": "code",
   "execution_count": 37,
   "id": "69be170d-3650-4daf-ad80-2c3167e7b0ec",
   "metadata": {},
   "outputs": [
    {
     "data": {
      "text/plain": [
       "array([[[ 1,  2,  3],\n",
       "        [ 4,  5,  6],\n",
       "        [ 7,  8,  9]],\n",
       "\n",
       "       [[10, 11, 12],\n",
       "        [13, 14, 15],\n",
       "        [16, 17, 18]]])"
      ]
     },
     "execution_count": 37,
     "metadata": {},
     "output_type": "execute_result"
    }
   ],
   "source": [
    "a3[:2]"
   ]
  },
  {
   "cell_type": "code",
   "execution_count": 39,
   "id": "7596eb9f-b0d9-4b69-ac8d-4d840fd6a1a5",
   "metadata": {},
   "outputs": [
    {
     "data": {
      "text/plain": [
       "array([[[[8, 1, 5, 9, 8],\n",
       "         [8, 4, 9, 1, 4],\n",
       "         [1, 0, 4, 8, 1],\n",
       "         [0, 2, 2, 3, 9],\n",
       "         [1, 1, 6, 8, 0]],\n",
       "\n",
       "        [[1, 7, 1, 6, 3],\n",
       "         [6, 8, 5, 6, 4],\n",
       "         [2, 4, 6, 8, 7],\n",
       "         [3, 9, 2, 2, 9],\n",
       "         [7, 7, 1, 8, 5]],\n",
       "\n",
       "        [[5, 4, 0, 8, 7],\n",
       "         [0, 4, 0, 5, 9],\n",
       "         [1, 0, 4, 7, 2],\n",
       "         [1, 0, 6, 7, 8],\n",
       "         [7, 4, 5, 7, 1]]],\n",
       "\n",
       "\n",
       "       [[[3, 5, 3, 7, 3],\n",
       "         [9, 7, 6, 7, 4],\n",
       "         [8, 9, 4, 8, 0],\n",
       "         [8, 6, 8, 6, 7],\n",
       "         [7, 2, 6, 4, 7]],\n",
       "\n",
       "        [[6, 3, 3, 4, 1],\n",
       "         [3, 6, 6, 0, 5],\n",
       "         [5, 7, 8, 2, 9],\n",
       "         [0, 3, 4, 9, 1],\n",
       "         [9, 4, 3, 6, 0]],\n",
       "\n",
       "        [[5, 2, 1, 2, 5],\n",
       "         [6, 1, 3, 9, 0],\n",
       "         [2, 5, 7, 3, 4],\n",
       "         [8, 7, 1, 5, 4],\n",
       "         [3, 5, 0, 8, 7]]]])"
      ]
     },
     "execution_count": 39,
     "metadata": {},
     "output_type": "execute_result"
    }
   ],
   "source": [
    "a4  = np.random.randint(10, size= (2,3,5,5))\n",
    "a4"
   ]
  },
  {
   "cell_type": "code",
   "execution_count": 40,
   "id": "5a8b3507-c1ad-4dea-bd17-41cdbb46f0d6",
   "metadata": {},
   "outputs": [
    {
     "data": {
      "text/plain": [
       "((2, 3, 5, 5), 4)"
      ]
     },
     "execution_count": 40,
     "metadata": {},
     "output_type": "execute_result"
    }
   ],
   "source": [
    "a4.shape, a4.ndim"
   ]
  },
  {
   "cell_type": "code",
   "execution_count": 41,
   "id": "842f66b7-54da-4af0-9e77-567ea1da4940",
   "metadata": {},
   "outputs": [
    {
     "data": {
      "text/plain": [
       "array([[[[8],\n",
       "         [8],\n",
       "         [1],\n",
       "         [0],\n",
       "         [1]],\n",
       "\n",
       "        [[1],\n",
       "         [6],\n",
       "         [2],\n",
       "         [3],\n",
       "         [7]],\n",
       "\n",
       "        [[5],\n",
       "         [0],\n",
       "         [1],\n",
       "         [1],\n",
       "         [7]]],\n",
       "\n",
       "\n",
       "       [[[3],\n",
       "         [9],\n",
       "         [8],\n",
       "         [8],\n",
       "         [7]],\n",
       "\n",
       "        [[6],\n",
       "         [3],\n",
       "         [5],\n",
       "         [0],\n",
       "         [9]],\n",
       "\n",
       "        [[5],\n",
       "         [6],\n",
       "         [2],\n",
       "         [8],\n",
       "         [3]]]])"
      ]
     },
     "execution_count": 41,
     "metadata": {},
     "output_type": "execute_result"
    }
   ],
   "source": [
    "## getting the first 4 numbers of the innermost arrays\n",
    "a4[:,:,:,:1]"
   ]
  },
  {
   "cell_type": "markdown",
   "id": "a0e4ea36-f879-4a15-b49f-5356dd50e506",
   "metadata": {},
   "source": [
    "## Manipulating & comparing arrays"
   ]
  },
  {
   "cell_type": "code",
   "execution_count": 42,
   "id": "3ff87e7d-061f-4b91-9eb9-38ef8a83e663",
   "metadata": {},
   "outputs": [
    {
     "data": {
      "text/plain": [
       "array([1, 2, 3])"
      ]
     },
     "execution_count": 42,
     "metadata": {},
     "output_type": "execute_result"
    }
   ],
   "source": [
    "a1"
   ]
  },
  {
   "cell_type": "code",
   "execution_count": 44,
   "id": "48646b03-abc4-480e-8719-8fde3d7e6743",
   "metadata": {},
   "outputs": [
    {
     "data": {
      "text/plain": [
       "array([1., 1., 1.])"
      ]
     },
     "execution_count": 44,
     "metadata": {},
     "output_type": "execute_result"
    }
   ],
   "source": [
    "ones = np.ones(3)\n",
    "ones"
   ]
  },
  {
   "cell_type": "code",
   "execution_count": 45,
   "id": "7e3537f7-926b-4101-80aa-0cef401c7b7e",
   "metadata": {},
   "outputs": [
    {
     "data": {
      "text/plain": [
       "array([2., 3., 4.])"
      ]
     },
     "execution_count": 45,
     "metadata": {},
     "output_type": "execute_result"
    }
   ],
   "source": [
    "a1 + ones  #same applies for subtraction, multiplication, division& the rest. "
   ]
  },
  {
   "cell_type": "code",
   "execution_count": 46,
   "id": "a223fa0f-6307-4a82-919d-97f3b39ff6bf",
   "metadata": {},
   "outputs": [
    {
     "data": {
      "text/plain": [
       "array([1, 2, 3])"
      ]
     },
     "execution_count": 46,
     "metadata": {},
     "output_type": "execute_result"
    }
   ],
   "source": [
    "a1"
   ]
  },
  {
   "cell_type": "code",
   "execution_count": 47,
   "id": "2eec0544-8a8a-409c-908b-dd38b00fd957",
   "metadata": {},
   "outputs": [
    {
     "data": {
      "text/plain": [
       "array([[1. , 2. , 3.3],\n",
       "       [4. , 5. , 6.5]])"
      ]
     },
     "execution_count": 47,
     "metadata": {},
     "output_type": "execute_result"
    }
   ],
   "source": [
    "a2"
   ]
  },
  {
   "cell_type": "code",
   "execution_count": 48,
   "id": "1c68c1d1-57d6-4b2b-8e2b-71f43e9dadb7",
   "metadata": {},
   "outputs": [
    {
     "data": {
      "text/plain": [
       "array([[ 1. ,  4. ,  9.9],\n",
       "       [ 4. , 10. , 19.5]])"
      ]
     },
     "execution_count": 48,
     "metadata": {},
     "output_type": "execute_result"
    }
   ],
   "source": [
    "a1*a2"
   ]
  },
  {
   "cell_type": "code",
   "execution_count": 49,
   "id": "2444313c-416c-4a8b-8011-1396cb77f5cd",
   "metadata": {},
   "outputs": [
    {
     "data": {
      "text/plain": [
       "array([0.        , 0.69314718, 1.09861229])"
      ]
     },
     "execution_count": 49,
     "metadata": {},
     "output_type": "execute_result"
    }
   ],
   "source": [
    "np.log(a1)  #for logrithm"
   ]
  },
  {
   "cell_type": "code",
   "execution_count": null,
   "id": "66ddd9c5-b77c-4c18-be87-f724d0baf86b",
   "metadata": {},
   "outputs": [],
   "source": []
  }
 ],
 "metadata": {
  "kernelspec": {
   "display_name": "Python 3 (ipykernel)",
   "language": "python",
   "name": "python3"
  },
  "language_info": {
   "codemirror_mode": {
    "name": "ipython",
    "version": 3
   },
   "file_extension": ".py",
   "mimetype": "text/x-python",
   "name": "python",
   "nbconvert_exporter": "python",
   "pygments_lexer": "ipython3",
   "version": "3.11.5"
  }
 },
 "nbformat": 4,
 "nbformat_minor": 5
}
